{
 "cells": [
  {
   "cell_type": "code",
   "execution_count": 4,
   "metadata": {
    "collapsed": true
   },
   "outputs": [],
   "source": [
    "import requests\n",
    "\n",
    "\n",
    "if __name__ == '__main__':\n",
    "\n",
    "    archivo = open(\"chistecitos.csv\", \"w\")\n",
    "    nombres_columnas = \"id , icon_url , chiste \\n\"\n",
    "    archivo.write(nombres_columnas)\n",
    "\n",
    "    for i in range(30):\n",
    "        respuesta = requests.get('https://api.chucknorris.io/jokes/random')\n",
    "        respuesta.status_code\n",
    "        informacion = respuesta.json()\n",
    "        id = informacion[\"id\"]\n",
    "        icon_url = informacion[\"icon_url\"]\n",
    "        chiste = informacion[\"value\"]\n",
    "\n",
    "        linea = id + \",\" + icon_url + \",\" +  chiste + \"\\n\"\n",
    "\n",
    "        archivo = open(\"chistecitos.csv\", \"a\")\n",
    "        archivo.write(linea)\n",
    "        archivo.close()"
   ]
  }
 ],
 "metadata": {
  "kernelspec": {
   "display_name": "Python 3",
   "language": "python",
   "name": "python3"
  },
  "language_info": {
   "codemirror_mode": {
    "name": "ipython",
    "version": 2
   },
   "file_extension": ".py",
   "mimetype": "text/x-python",
   "name": "python",
   "nbconvert_exporter": "python",
   "pygments_lexer": "ipython2",
   "version": "2.7.6"
  }
 },
 "nbformat": 4,
 "nbformat_minor": 0
}