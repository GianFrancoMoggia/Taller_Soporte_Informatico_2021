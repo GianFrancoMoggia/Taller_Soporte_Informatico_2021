{
 "cells": [
  {
   "cell_type": "code",
   "execution_count": 13,
   "metadata": {
    "collapsed": true
   },
   "outputs": [],
   "source": [
    "import requests\n",
    "from bs4 import BeautifulSoup\n",
    "import pandas as pd\n",
    "\n",
    "if __name__ == '__main__':\n",
    "    valores={}\n",
    "    pagina = requests.get(\"https://store.steampowered.com/specials#p=0&tab=TopSellers\")\n",
    "    objetoSopa  = BeautifulSoup(pagina.content, 'html.parser')\n",
    "    descuento = objetoSopa.find_all('div', class_='discount_pct')\n",
    "    precioOriginal = objetoSopa.find_all('div', class_='discount_original_price')\n",
    "    precioFinal = objetoSopa.find_all('div', class_='discount_final_price')\n",
    "\n",
    "    '''valores[\"descuentos\"] = descuento\n",
    "    valores[\"preciosOriginales\"] = precioOriginal\n",
    "    valores[\"preciosFinales\"] = precioFinal'''\n",
    "\n",
    "    valores = {'descuentos': descuento, 'preciosOriginales': precioOriginal, 'preciosFinales': precioFinal}\n",
    "    df = pd.DataFrame.from_dict(valores, orient='index')\n",
    "    df.transpose()\n",
    "    df.to_csv(\"../notebooks/promociones_steam.csv\")"
   ]
  }
 ],
 "metadata": {
  "kernelspec": {
   "display_name": "Python 3",
   "language": "python",
   "name": "python3"
  },
  "language_info": {
   "codemirror_mode": {
    "name": "ipython",
    "version": 2
   },
   "file_extension": ".py",
   "mimetype": "text/x-python",
   "name": "python",
   "nbconvert_exporter": "python",
   "pygments_lexer": "ipython2",
   "version": "2.7.6"
  }
 },
 "nbformat": 4,
 "nbformat_minor": 0
}