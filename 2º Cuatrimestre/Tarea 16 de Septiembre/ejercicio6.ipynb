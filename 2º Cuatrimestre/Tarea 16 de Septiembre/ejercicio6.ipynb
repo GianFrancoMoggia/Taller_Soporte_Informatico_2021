{
 "cells": [
  {
   "cell_type": "code",
   "execution_count": 3,
   "metadata": {
    "collapsed": true
   },
   "outputs": [
    {
     "ename": "ModuleNotFoundError",
     "evalue": "No module named 'pandas'",
     "output_type": "error",
     "traceback": [
      "\u001b[0;31m---------------------------------------------------------------------------\u001b[0m",
      "\u001b[0;31mModuleNotFoundError\u001b[0m                       Traceback (most recent call last)",
      "\u001b[0;32m/tmp/ipykernel_10950/879167544.py\u001b[0m in \u001b[0;36m<module>\u001b[0;34m\u001b[0m\n\u001b[1;32m      1\u001b[0m \u001b[0;32mimport\u001b[0m \u001b[0mrequests\u001b[0m\u001b[0;34m\u001b[0m\u001b[0;34m\u001b[0m\u001b[0m\n\u001b[1;32m      2\u001b[0m \u001b[0;32mfrom\u001b[0m \u001b[0mbs4\u001b[0m \u001b[0;32mimport\u001b[0m \u001b[0mBeautifulSoup\u001b[0m\u001b[0;34m\u001b[0m\u001b[0;34m\u001b[0m\u001b[0m\n\u001b[0;32m----> 3\u001b[0;31m \u001b[0;32mimport\u001b[0m \u001b[0mpandas\u001b[0m \u001b[0;32mas\u001b[0m \u001b[0mpd\u001b[0m\u001b[0;34m\u001b[0m\u001b[0;34m\u001b[0m\u001b[0m\n\u001b[0m\u001b[1;32m      4\u001b[0m \u001b[0;32mif\u001b[0m \u001b[0m__name__\u001b[0m \u001b[0;34m==\u001b[0m \u001b[0;34m'__main__'\u001b[0m\u001b[0;34m:\u001b[0m\u001b[0;34m\u001b[0m\u001b[0;34m\u001b[0m\u001b[0m\n\u001b[1;32m      5\u001b[0m     \u001b[0mvalores\u001b[0m\u001b[0;34m=\u001b[0m\u001b[0;34m{\u001b[0m\u001b[0;34m}\u001b[0m\u001b[0;34m\u001b[0m\u001b[0;34m\u001b[0m\u001b[0m\n",
      "\u001b[0;31mModuleNotFoundError\u001b[0m: No module named 'pandas'"
     ]
    }
   ],
   "source": [
    "import requests\n",
    "from bs4 import BeautifulSoup\n",
    "import pandas as pd\n",
    "if __name__ == '__main__':\n",
    "    valores={}\n",
    "    pagina = requests.get(\"https://store.steampowered.com/specials#p=0&tab=TopSellers\")\n",
    "    objetoSopa  = BeautifulSoup(pagina.content, 'html.parser')\n",
    "    descuento = objetoSopa.find_all('div', class_='discount_pct')\n",
    "    precioOriginal = objetoSopa.find_all('div', class_='discount_original_price')\n",
    "    precioFinal = objetoSopa.find_all('div', class_='discount_final_price')\n",
    "\n",
    "    x = 0\n",
    "    while x < len(precioFinal):\n",
    "        descuento[x] = descuento[x].get_text()\n",
    "        precioOriginal[x] = precioOriginal[x].get_text()\n",
    "        precioFinal[x] = precioFinal[x].get_text()\n",
    "        x += 1\n",
    "\n",
    "    valores = {'descuentos': descuento, 'preciosOriginales': precioOriginal, 'preciosFinales': precioFinal}\n",
    "    df = pd.DataFrame.from_dict(valores, orient='index')\n",
    "    df.transpose()\n",
    "    df.to_csv(\"../notebooks/promociones_steam.csv\")"
   ]
  }
 ],
 "metadata": {
  "kernelspec": {
   "display_name": "Python 3",
   "language": "python",
   "name": "python3"
  },
  "language_info": {
   "codemirror_mode": {
    "name": "ipython",
    "version": 3
   },
   "file_extension": ".py",
   "mimetype": "text/x-python",
   "name": "python",
   "nbconvert_exporter": "python",
   "pygments_lexer": "ipython3",
   "version": "3.8.10"
  }
 },
 "nbformat": 4,
 "nbformat_minor": 0
}
